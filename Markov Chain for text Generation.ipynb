{
 "cells": [
  {
   "cell_type": "code",
   "execution_count": 8,
   "metadata": {},
   "outputs": [],
   "source": [
    "def generate(text,k):\n",
    "    t = {}\n",
    "    for i in range(len(text)-k):\n",
    "        x = text[i:i+k]\n",
    "        y = text[i+k]\n",
    "        if t.get(x) is None:\n",
    "            t[x] = {}\n",
    "            t[x][y] = 1\n",
    "        else:\n",
    "            if t[x].get(y) is None:\n",
    "                t[x][y] = 1\n",
    "            else:\n",
    "                t[x][y] += 1\n",
    "    for kx in t.keys():\n",
    "        s = float(sum(t[kx].values()))\n",
    "        for k in t[kx].keys():\n",
    "            t[kx][k] = t[kx][k]/s\n",
    "    return t"
   ]
  },
  {
   "cell_type": "code",
   "execution_count": 9,
   "metadata": {},
   "outputs": [],
   "source": [
    "import numpy as np\n",
    "def sampling(chra,t,k=4):\n",
    "    \n",
    "    val = chra[-k:]\n",
    "    if t.get(val) is None:\n",
    "        return ' '\n",
    "    \n",
    "    characters = list(t[val].keys())\n",
    "    prob = list(t[val].values())\n",
    "    return np.random.choice(characters,p = prob)"
   ]
  },
  {
   "cell_type": "code",
   "execution_count": 24,
   "metadata": {},
   "outputs": [],
   "source": [
    "file_name = \"english_speech_2.txt\"\n",
    "def load_text(file_name):\n",
    "    with open(file_name,encoding = 'utf8') as f:\n",
    "        return f.read().lower()\n",
    "file = load_text(file_name)"
   ]
  },
  {
   "cell_type": "code",
   "execution_count": 16,
   "metadata": {},
   "outputs": [],
   "source": [
    "def textgeneration(sent,k,maxlen = 1000):\n",
    "    char = sent[-k:]\n",
    "    for i in range(maxlen):\n",
    "        \n",
    "        next_pred = sampling(char,model,k)\n",
    "        sent+=next_pred\n",
    "        char = sent[-k:]\n",
    "    return sent\n",
    "        "
   ]
  },
  {
   "cell_type": "code",
   "execution_count": 17,
   "metadata": {},
   "outputs": [],
   "source": [
    "sent = file[:20]\n",
    "model = generate(file,4)\n",
    "listr = textgeneration(sent,4)"
   ]
  },
  {
   "cell_type": "code",
   "execution_count": 27,
   "metadata": {},
   "outputs": [
    {
     "name": "stdout",
     "output_type": "stream",
     "text": [
      "My dear countrymen,\n",
      "\n",
      "Many of tricolor Came increased the country is not in them a lot of the tricolor flag, in a sensitive freedom, I am involve of the full of independence. To protect all the paramilitary great men to the festival order to that India Has registed their rights, our daughters of triumphs went to overcrowding and happy and die, their misery.\n",
      "\n",
      "My devoted to proud of the session.\n",
      "\n",
      "We are celebrating for the holy festival of independence at time Parliament, new consciousness, for a consciousness, new energy.\n",
      "\n",
      "In ordinary force, inspiring for all the countrymen, to that time, who have increased seven states crossed? Jalianwala Bagh giving forces, our paramilitary people spent to the Lok Sabha and hoisting constitutional glory of independence forceful with who have justice. Today the hills of their righters of these status to protect that India Has registed their rights by plowing the message of the countrymen, to the fact the glory of the country, along this time, when to the country.\n",
      "\n",
      "In ordin\n"
     ]
    }
   ],
   "source": [
    "print(listr)"
   ]
  },
  {
   "cell_type": "code",
   "execution_count": null,
   "metadata": {},
   "outputs": [],
   "source": []
  }
 ],
 "metadata": {
  "kernelspec": {
   "display_name": "Python 3",
   "language": "python",
   "name": "python3"
  },
  "language_info": {
   "codemirror_mode": {
    "name": "ipython",
    "version": 3
   },
   "file_extension": ".py",
   "mimetype": "text/x-python",
   "name": "python",
   "nbconvert_exporter": "python",
   "pygments_lexer": "ipython3",
   "version": "3.6.8"
  }
 },
 "nbformat": 4,
 "nbformat_minor": 2
}
